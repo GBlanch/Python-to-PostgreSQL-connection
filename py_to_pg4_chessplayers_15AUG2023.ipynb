{
 "cells": [
  {
   "cell_type": "markdown",
   "id": "7eed3a56",
   "metadata": {},
   "source": [
    "## CRUD operations"
   ]
  },
  {
   "cell_type": "markdown",
   "id": "ecb0cdec",
   "metadata": {},
   "source": [
    " ##### Every new step will be added in the same piece of code so far built:"
   ]
  },
  {
   "cell_type": "markdown",
   "id": "7173ba8a",
   "metadata": {},
   "source": [
    "First we establish the connection to Postgre."
   ]
  },
  {
   "cell_type": "code",
   "execution_count": 50,
   "id": "1946a0aa",
   "metadata": {},
   "outputs": [],
   "source": [
    "import psycopg2 # we import this API/driver to make python-Postgres connections"
   ]
  },
  {
   "cell_type": "code",
   "execution_count": 12,
   "id": "86891c81",
   "metadata": {},
   "outputs": [],
   "source": [
    "hostname = 'localhost'\n",
    "database = 'chessplayers'\n",
    "username = 'postgres'\n",
    "pwd = '#############'\n",
    "port_id = 5432\n",
    "conn = None"
   ]
  },
  {
   "cell_type": "code",
   "execution_count": 3,
   "id": "6da91c7b",
   "metadata": {},
   "outputs": [],
   "source": [
    "try:\n",
    "    conn =  psycopg2.connect(           # this method opens a session in the db and we can perform queries/transactions. \n",
    "                host = hostname,\n",
    "                dbname = database,\n",
    "                user = username,\n",
    "                password = pwd,\n",
    "                port = port_id) \n",
    "    conn.close()\n",
    "    \n",
    "except Exception as error:\n",
    "    print(error)                       # connection to db failed due to any missmatching info in psyscop2g.connect parameters."
   ]
  },
  {
   "cell_type": "code",
   "execution_count": null,
   "id": "12e73edc",
   "metadata": {},
   "outputs": [],
   "source": []
  },
  {
   "cell_type": "markdown",
   "id": "9dc0a5db",
   "metadata": {},
   "source": [
    "To perform sql transcactions we will be needing a cursor from within:"
   ]
  },
  {
   "cell_type": "code",
   "execution_count": 13,
   "id": "0a49d8c6",
   "metadata": {},
   "outputs": [],
   "source": [
    "hostname = 'localhost'\n",
    "database = 'chessplayers'\n",
    "username = 'postgres'\n",
    "pwd = '##################'\n",
    "port_id = 5432\n",
    "conn = None\n",
    "cur = None  # This"
   ]
  },
  {
   "cell_type": "code",
   "execution_count": 6,
   "id": "7feb5b8c",
   "metadata": {},
   "outputs": [],
   "source": [
    "try:\n",
    "    conn =  psycopg2.connect(          \n",
    "                host = hostname,\n",
    "                dbname = database,\n",
    "                user = username,\n",
    "                password = pwd,\n",
    "                port = port_id) \n",
    "    \n",
    "    cur = conn.cursor()    \n",
    "    \n",
    "    cur.close()\n",
    "    \n",
    "except Exception as error:\n",
    "    print(error)                       \n",
    "\n",
    "finally:\n",
    "    \n",
    "    if cur is not None:   # cursor will close if and when it was opened\n",
    "        cur.close()\n",
    "        \n",
    "    if conn is not None:   # connection will close if and when it was established\n",
    "        conn.close()"
   ]
  },
  {
   "cell_type": "markdown",
   "id": "4b12abea",
   "metadata": {},
   "source": [
    "We can start the Creating stage by defining the table columns:"
   ]
  },
  {
   "cell_type": "code",
   "execution_count": 19,
   "id": "67fc5a21",
   "metadata": {},
   "outputs": [],
   "source": [
    "try:\n",
    "    conn =  psycopg2.connect(          \n",
    "                host = hostname,\n",
    "                dbname = database,\n",
    "                user = username,\n",
    "                password = pwd,\n",
    "                port = port_id) \n",
    "    \n",
    "    cur = conn.cursor()    \n",
    "  \n",
    "\n",
    "    \n",
    "    cur.execute('DROP TABLE IF EXISTS ranking')  # drop it 1st in case it already exist, as we do in MySQL\n",
    "\n",
    "    #And we start querying the scripts as we do in PostgreSQL,MySQL, etc..\n",
    "    creation = ''' CREATE TABLE IF NOT EXISTS ranking (  \n",
    "                                    Pos      int PRIMARY KEY,\n",
    "                                    Name    varchar(40) NOT NULL,\n",
    "                                    Nat     varchar(30),\n",
    "                                    Wins    int ) '''\n",
    "    cur.execute(creation)\n",
    "\n",
    "    conn.commit()   \n",
    "    ###\n",
    "    \n",
    "except Exception as error:\n",
    "    print(error)                      \n",
    "\n",
    "finally:\n",
    "    \n",
    "    if cur is not None:   \n",
    "        cur.close()\n",
    "        \n",
    "    if conn is not None:   \n",
    "        conn.close()"
   ]
  },
  {
   "cell_type": "markdown",
   "id": "6c6ef7e4",
   "metadata": {},
   "source": [
    "Then we can insert multiple observations to the table within a for loop:"
   ]
  },
  {
   "cell_type": "code",
   "execution_count": 26,
   "id": "37fa69a5",
   "metadata": {},
   "outputs": [],
   "source": [
    "try:\n",
    "    conn =  psycopg2.connect(          \n",
    "                host = hostname,\n",
    "                dbname = database,\n",
    "                user = username,\n",
    "                password = pwd,\n",
    "                port = port_id) \n",
    "    \n",
    "    cur = conn.cursor()    \n",
    "  \n",
    "\n",
    "    \n",
    "    cur.execute('DROP TABLE IF EXISTS ranking')  \n",
    "\n",
    "\n",
    "    creation = ''' CREATE TABLE IF NOT EXISTS ranking (  \n",
    "                                    Pos      int PRIMARY KEY,\n",
    "                                    Name    varchar(40) NOT NULL,\n",
    "                                    Nat     varchar(30),\n",
    "                                    Wins    int ) '''\n",
    "    cur.execute(creation)\n",
    "    \n",
    "    # value addition using SQL language\n",
    "    inserts  = 'INSERT INTO ranking (Pos, Name, Nat, Wins) VALUES (%s, %s, %s, %s)'\n",
    "    insert_values = [(1, 'M.Larcsen', 'NW', 54), \n",
    "                     (2, 'H.Kanamura', 'US', 51), \n",
    "                     (3, 'S.Wo', 'CH', 47), \n",
    "                     (4, 'A.Foriuzja', 'FR', 46), \n",
    "                     (5, 'A.Rigi', 'IN', 44), \n",
    "                     (6, 'R.Parrort', 'HU', 40), \n",
    "                     (7, 'S.Memadyarov', 'AZ', 39), \n",
    "                     (8, 'A.Gruschik', 'RU', 35)]\n",
    "    \n",
    "    for observations in insert_values:\n",
    "        cur.execute(inserts, observations)   \n",
    "    #\n",
    "    conn.commit()   \n",
    "    \n",
    "except Exception as error:\n",
    "    print(error)                      \n",
    "\n",
    "finally:\n",
    "    \n",
    "    if cur is not None:   \n",
    "        cur.close()\n",
    "        \n",
    "    if conn is not None:   \n",
    "        conn.close()"
   ]
  },
  {
   "cell_type": "markdown",
   "id": "982c3e8f",
   "metadata": {},
   "source": [
    "Let us fetch the data into jupyert notebooks as well"
   ]
  },
  {
   "cell_type": "code",
   "execution_count": 51,
   "id": "95cc6a54",
   "metadata": {},
   "outputs": [],
   "source": [
    "import psycopg2\n",
    "import psycopg2.extras"
   ]
  },
  {
   "cell_type": "code",
   "execution_count": 106,
   "id": "ee395dd3",
   "metadata": {},
   "outputs": [
    {
     "name": "stdout",
     "output_type": "stream",
     "text": [
      "1 M.Larcsen 54\n",
      "2 H.Kanamura 51\n",
      "3 S.Wo 47\n",
      "4 A.Foriuzja 46\n",
      "5 A.Rigi 44\n",
      "6 R.Parrort 40\n",
      "7 S.Memadyarov 39\n",
      "8 A.Gruschik 35\n"
     ]
    }
   ],
   "source": [
    "try:\n",
    "    conn =  psycopg2.connect(          \n",
    "                host = hostname,\n",
    "                dbname = database,\n",
    "                user = username,\n",
    "                password = pwd,\n",
    "                port = port_id) \n",
    "    \n",
    "    cur = conn.cursor(cursor_factory=psycopg2.extras.DictCursor)   # it will return the data in a ditionary form\n",
    "  \n",
    "    cur.execute('DROP TABLE IF EXISTS ranking')  \n",
    "\n",
    "    creation = ''' CREATE TABLE IF NOT EXISTS ranking (  \n",
    "                                    Pos      int PRIMARY KEY,\n",
    "                                    Name    varchar(40) NOT NULL,\n",
    "                                    Nat     varchar(30),\n",
    "                                    Wins    int ) '''\n",
    "    cur.execute(creation)\n",
    "    \n",
    " \n",
    "    inserts  = 'INSERT INTO ranking (Pos, Name, Nat, Wins) VALUES (%s, %s, %s, %s)'\n",
    "    insert_values = [(1, 'M.Larcsen', 'NW', 54), \n",
    "                     (2, 'H.Kanamura', 'US', 51), \n",
    "                     (3, 'S.Wo', 'CH', 47), \n",
    "                     (4, 'A.Foriuzja', 'FR', 46), \n",
    "                     (5, 'A.Rigi', 'IN', 44), \n",
    "                     (6, 'R.Parrort', 'HU', 40), \n",
    "                     (7, 'S.Memadyarov', 'AZ', 39), \n",
    "                     (8, 'A.Gruschik', 'RU', 35)]\n",
    "    \n",
    "    for observations in insert_values:\n",
    "        cur.execute(inserts, observations)  \n",
    "    ##\n",
    "    cur.execute('SELECT * FROM ranking')\n",
    "    \n",
    "    for obs_fetch in cur.fetchall():\n",
    "        print(obs_fetch['pos'], \n",
    "              obs_fetch['name'], \n",
    "              obs_fetch['wins']) # dictionary defined, don't use capitals!\n",
    "        conn.commit()   \n",
    "    ##\n",
    "    \n",
    "except Exception as error:\n",
    "    print(error)                      \n",
    "\n",
    "finally:\n",
    "    \n",
    "    if cur is not None:   \n",
    "        cur.close()\n",
    "        \n",
    "    if conn is not None:   \n",
    "        conn.close()"
   ]
  },
  {
   "cell_type": "markdown",
   "id": "eb7761a0",
   "metadata": {},
   "source": [
    "We can modify our observations..."
   ]
  },
  {
   "cell_type": "code",
   "execution_count": 107,
   "id": "9053a6e6",
   "metadata": {},
   "outputs": [
    {
     "name": "stdout",
     "output_type": "stream",
     "text": [
      "1 M.Larcsen 54\n",
      "2 H.Kanamura 51\n",
      "3 S.Wo 47\n",
      "4 A.Foriuzja 46\n",
      "5 A.Rigi 44\n",
      "6 R.Parrort 40\n",
      "7 S.Memadyarov 39\n",
      "8 A.Gruschik 36\n"
     ]
    }
   ],
   "source": [
    "try:\n",
    "    conn =  psycopg2.connect(          \n",
    "                host = hostname,\n",
    "                dbname = database,\n",
    "                user = username,\n",
    "                password = pwd,\n",
    "                port = port_id) \n",
    "    \n",
    "    cur = conn.cursor(cursor_factory=psycopg2.extras.DictCursor)   # it will return the data in a ditionary form\n",
    "  \n",
    "    cur.execute('DROP TABLE IF EXISTS ranking')  \n",
    "\n",
    "    creation = ''' CREATE TABLE IF NOT EXISTS ranking (  \n",
    "                                    Pos      int PRIMARY KEY,\n",
    "                                    Name    varchar(40) NOT NULL,\n",
    "                                    Nat     varchar(30),\n",
    "                                    Wins    int ) '''\n",
    "    cur.execute(creation)\n",
    "    \n",
    " \n",
    "    inserts  = 'INSERT INTO ranking (Pos, Name, Nat, Wins) VALUES (%s, %s, %s, %s)'\n",
    "    insert_values = [(1, 'M.Larcsen', 'NW', 54), \n",
    "                     (2, 'H.Kanamura', 'US', 51), \n",
    "                     (3, 'S.Wo', 'CH', 47), \n",
    "                     (4, 'A.Foriuzja', 'FR', 46), \n",
    "                     (5, 'A.Rigi', 'IN', 44), \n",
    "                     (6, 'R.Parrort', 'HU', 40), \n",
    "                     (7, 'S.Memadyarov', 'AZ', 39), \n",
    "                     (8, 'A.Gruschik', 'RU', 35)]\n",
    "    \n",
    "    for observations in insert_values:\n",
    "        cur.execute(inserts, observations)  \n",
    "        \n",
    "    ##\n",
    "    updating = 'UPDATE ranking SET wins = 36 WHERE Pos = 8' \n",
    "    cur.execute(updating)   \n",
    "    ##\n",
    "    \n",
    "    cur.execute('SELECT * FROM ranking')\n",
    "    \n",
    "    for obs_fetch in cur.fetchall():\n",
    "        print(obs_fetch['pos'],\n",
    "              obs_fetch['name'], \n",
    "              obs_fetch['wins']) # dictionary defined, don't use capitals\n",
    "        conn.commit()   \n",
    "    \n",
    "except Exception as error:\n",
    "    print(error)                      \n",
    "\n",
    "finally:\n",
    "    \n",
    "    if cur is not None:   \n",
    "        cur.close()\n",
    "        \n",
    "    if conn is not None:   \n",
    "        conn.close()"
   ]
  },
  {
   "cell_type": "code",
   "execution_count": null,
   "id": "8aafad83",
   "metadata": {},
   "outputs": [],
   "source": []
  },
  {
   "cell_type": "markdown",
   "id": "9d98abea",
   "metadata": {},
   "source": [
    " And delete them too"
   ]
  },
  {
   "cell_type": "code",
   "execution_count": 108,
   "id": "149fc33d",
   "metadata": {},
   "outputs": [
    {
     "name": "stdout",
     "output_type": "stream",
     "text": [
      "1 M.Larcsen 54\n",
      "2 H.Kanamura 51\n",
      "3 S.Wo 47\n",
      "4 A.Foriuzja 46\n",
      "5 A.Rigi 44\n",
      "6 R.Parrort 40\n",
      "7 S.Memadyarov 39\n"
     ]
    }
   ],
   "source": [
    "try:\n",
    "    conn =  psycopg2.connect(          \n",
    "                host = hostname,\n",
    "                dbname = database,\n",
    "                user = username,\n",
    "                password = pwd,\n",
    "                port = port_id) \n",
    "    \n",
    "    cur = conn.cursor(cursor_factory=psycopg2.extras.DictCursor)   # it will return the data in a ditionary form\n",
    "  \n",
    "    cur.execute('DROP TABLE IF EXISTS ranking')  \n",
    "\n",
    "    creation = ''' CREATE TABLE IF NOT EXISTS ranking (  \n",
    "                                    Pos      int PRIMARY KEY,\n",
    "                                    Name    varchar(40) NOT NULL,\n",
    "                                    Nat     varchar(30),\n",
    "                                    Wins    int ) '''\n",
    "    cur.execute(creation)\n",
    "    \n",
    " \n",
    "    inserts  = 'INSERT INTO ranking (Pos, Name, Nat, Wins) VALUES (%s, %s, %s, %s)'\n",
    "    insert_values = [(1, 'M.Larcsen', 'NW', 54), \n",
    "                     (2, 'H.Kanamura', 'US', 51), \n",
    "                     (3, 'S.Wo', 'CH', 47), \n",
    "                     (4, 'A.Foriuzja', 'FR', 46), \n",
    "                     (5, 'A.Rigi', 'IN', 44), \n",
    "                     (6, 'R.Parrort', 'HU', 40), \n",
    "                     (7, 'S.Memadyarov', 'AZ', 39), \n",
    "                     (8, 'A.Gruschik', 'RU', 35)]\n",
    "    \n",
    "    for observations in insert_values:\n",
    "        cur.execute(inserts, observations)  \n",
    "        \n",
    "    \n",
    "    updating = 'UPDATE ranking SET wins = 36 WHERE Pos = 8' \n",
    "    cur.execute(updating)   \n",
    "    \n",
    "    ##\n",
    "    delete = 'DELETE FROM ranking WHERE name = %s'\n",
    "    delete_observ = ('A.Gruschik',)\n",
    "    cur.execute(delete, delete_observ)\n",
    "    ##\n",
    "    \n",
    "    cur.execute('SELECT * FROM ranking')\n",
    "    \n",
    "    for obs_fetch in cur.fetchall():\n",
    "        print(obs_fetch['pos'], \n",
    "              obs_fetch['name'], \n",
    "              obs_fetch['wins']) \n",
    "        conn.commit()   \n",
    "    \n",
    "except Exception as error:\n",
    "    print(error)                      \n",
    "\n",
    "finally:\n",
    "    \n",
    "    if cur is not None:   \n",
    "        cur.close()\n",
    "        \n",
    "    if conn is not None:   \n",
    "        conn.close()"
   ]
  },
  {
   "cell_type": "markdown",
   "id": "d451ad27",
   "metadata": {},
   "source": [
    "We can use a with clause to simplyfy more the code, such as:"
   ]
  },
  {
   "cell_type": "code",
   "execution_count": 8,
   "id": "e5c39b50",
   "metadata": {},
   "outputs": [],
   "source": [
    "import psycopg2\n",
    "import psycopg2.extras"
   ]
  },
  {
   "cell_type": "code",
   "execution_count": 15,
   "id": "ceb54a28",
   "metadata": {},
   "outputs": [],
   "source": [
    "hostname = 'localhost'\n",
    "database = 'chessplayers'\n",
    "username = 'postgres'\n",
    "pwd = '##########'\n",
    "port_id = 5432\n",
    "conn = None\n",
    "# cur = None  # not needed when using with clause"
   ]
  },
  {
   "cell_type": "code",
   "execution_count": 111,
   "id": "330e08a0",
   "metadata": {},
   "outputs": [
    {
     "name": "stdout",
     "output_type": "stream",
     "text": [
      "1 M.Larcsen 54\n",
      "2 H.Kanamura 51\n",
      "3 S.Wo 47\n",
      "4 A.Foriuzja 46\n",
      "5 A.Rigi 44\n",
      "6 R.Parrort 40\n",
      "7 S.Memadyarov 39\n"
     ]
    }
   ],
   "source": [
    "try:\n",
    "    with  psycopg2.connect(          # we define the method 'connect' within the with clause\n",
    "                host = hostname,\n",
    "                dbname = database,\n",
    "                user = username,\n",
    "                password = pwd,\n",
    "                port = port_id) as conn:   # need further indention\n",
    "    \n",
    "       with  conn.cursor(cursor_factory=psycopg2.extras.DictCursor) as cur:  # likewise here with the method 'cursor'\n",
    "\n",
    "            cur.execute('DROP TABLE IF EXISTS ranking')  \n",
    "\n",
    "            create_script = ''' CREATE TABLE IF NOT EXISTS ranking (  \n",
    "                                            Pos      int PRIMARY KEY,\n",
    "                                            Name    varchar(40) NOT NULL,\n",
    "                                            Nat     varchar(30),\n",
    "                                            Wins    int ) '''\n",
    "            cur.execute(create_script)\n",
    "\n",
    "\n",
    "            inserts  = 'INSERT INTO ranking (Pos, Name, Nat, Wins) VALUES (%s, %s, %s, %s)'\n",
    "            insert_values = [(1, 'M.Larcsen', 'NW', 54), \n",
    "                             (2, 'H.Kanamura', 'US', 51), \n",
    "                             (3, 'S.Wo', 'CH', 47), \n",
    "                             (4, 'A.Foriuzja', 'FR', 46), \n",
    "                             (5, 'A.Rigi', 'IN', 44), \n",
    "                             (6, 'R.Parrort', 'HU', 40), \n",
    "                             (7, 'S.Memadyarov', 'AZ', 39), \n",
    "                             (8, 'A.Gruschik', 'RU', 35)]\n",
    "\n",
    "            for observations in insert_values:\n",
    "                cur.execute(inserts, observations)  \n",
    "\n",
    "\n",
    "            updating = 'UPDATE ranking SET wins = 36 WHERE Pos = 8' \n",
    "            cur.execute(updating)   \n",
    "\n",
    "            ##\n",
    "            delete = 'DELETE FROM ranking WHERE name = %s'\n",
    "            delete_observ = ('A.Gruschik',)\n",
    "            cur.execute(delete, \n",
    "                        delete_observ)\n",
    "            ##\n",
    "\n",
    "            cur.execute('SELECT * FROM ranking')\n",
    "\n",
    "            for obs_fetch in cur.fetchall():\n",
    "                print(obs_fetch['pos'], \n",
    "                      obs_fetch['name'], \n",
    "                      obs_fetch['wins']) \n",
    "            \n",
    "            # conn.commit()   Not needed for the with clause takes care of it\n",
    "\n",
    "except Exception as error:\n",
    "    print(error)                      \n",
    "\n",
    "finally:\n",
    "    \n",
    "    # if cur is not None:      Not needed 'close' method either, same reason than 'commit' method above\n",
    "    #    cur.close()\n",
    "        \n",
    "    if conn is not None:   \n",
    "        conn.close()"
   ]
  },
  {
   "cell_type": "markdown",
   "id": "5918047a",
   "metadata": {},
   "source": []
  }
 ],
 "metadata": {
  "kernelspec": {
   "display_name": "Python 3 (ipykernel)",
   "language": "python",
   "name": "python3"
  },
  "language_info": {
   "codemirror_mode": {
    "name": "ipython",
    "version": 3
   },
   "file_extension": ".py",
   "mimetype": "text/x-python",
   "name": "python",
   "nbconvert_exporter": "python",
   "pygments_lexer": "ipython3",
   "version": "3.11.4"
  }
 },
 "nbformat": 4,
 "nbformat_minor": 5
}
